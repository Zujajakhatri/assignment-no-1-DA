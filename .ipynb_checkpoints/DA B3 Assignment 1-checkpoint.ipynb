{
 "cells": [
  {
   "cell_type": "markdown",
   "id": "e64ef6a8-72dd-4dfd-9249-ba188ff0102e",
   "metadata": {},
   "source": [
    "1. Write a program that takes two numbers (a = 15 , b = 4) and prints their:\n",
    "\n",
    "\n",
    "- Sum\n",
    "\n",
    "- Difference\n",
    "\n",
    "- Product\n",
    "\n",
    "- Division\n",
    "\n",
    "- Floor Division\n",
    "\n",
    "- Modulus\n",
    "\n"
   ]
  },
  {
   "cell_type": "markdown",
   "id": "7195c799-ad57-43b3-a6a2-8cabc1821fcc",
   "metadata": {},
   "source": [
    "2. Convert the following: \n",
    "(num1 = 10, num2 = 5.6, num3 = 4.43)\n",
    "\n",
    "- Integer to float\n",
    "\n",
    "- Float to integer\n",
    "\n",
    "- Float to String"
   ]
  },
  {
   "cell_type": "markdown",
   "id": "b6a8f851-44c6-4906-a0db-344672319251",
   "metadata": {},
   "source": [
    "3. fruits = [\"apple\", \"banana\", \"cherry\", \"coconut\", \"pineapple\", \"mango\", \"orange\"]\n",
    "\n",
    "Print below using indexing:\n",
    "\n",
    "- The first fruit\n",
    "\n",
    "- The last fruit (negative indexing)\n",
    "\n",
    "- The fourth fruit"
   ]
  },
  {
   "cell_type": "markdown",
   "id": "02eb9ef7-85ad-4036-93c4-5c3f27346ab4",
   "metadata": {},
   "source": [
    "4. List Slicing\n",
    "\n",
    "numbers = [10, 20, 30, 40, 50]\n",
    "\n",
    "Print:\n",
    "\n",
    "- First three elements\n",
    "\n",
    "- Last two elements\n",
    "\n",
    "- Print all elements except the first one\n",
    "\n",
    "- Print all elements except the last one\n",
    "\n",
    "- Print the list in reverse using slicing\n",
    "\n",
    "-  Print every second element"
   ]
  },
  {
   "cell_type": "markdown",
   "id": "ca5024d0-feea-40ec-b36d-aa333ea27760",
   "metadata": {},
   "source": [
    "5. Add the number 10 to the end of the list using method.\n",
    "\n",
    "nums = [1, 2, 3]\n"
   ]
  },
  {
   "cell_type": "markdown",
   "id": "cac03c9e-a77a-4f9f-b148-315ca1a228de",
   "metadata": {},
   "source": [
    "6. Insert the number 99 at index 1 using method.\n",
    "\n",
    "nums = [1, 2, 3]\n"
   ]
  },
  {
   "cell_type": "markdown",
   "id": "755179b2-5aa8-4ba9-bb07-4054b83cf3f0",
   "metadata": {},
   "source": [
    "7.  Add the elements of another list [4, 5] to the original list using method\n",
    "\n",
    "nums = [1, 2, 3]"
   ]
  },
  {
   "cell_type": "markdown",
   "id": "77c3acdf-c270-46b4-a620-e02e59b63f76",
   "metadata": {},
   "source": [
    "8.  Sort the list in ascending order using method\n",
    "\n",
    "nums = [4, 1, 3, 2]"
   ]
  },
  {
   "cell_type": "markdown",
   "id": "471d609a-55e8-4227-a8fd-d6ef73628bf5",
   "metadata": {},
   "source": [
    "9. A customer orders several food items. Add the items to a list and then:\n",
    "\n",
    "order = [\"burger\", \"fries\", \"coke\"]\n",
    "\n",
    "- Add a new item \"ice cream\" using append()\n",
    "\n",
    "- Remove an item \"biryani\" using remove()\n",
    "\n",
    "- Show the final order"
   ]
  },
  {
   "cell_type": "markdown",
   "id": "5bdde849-44d9-4ab6-b496-fb125d9b73bd",
   "metadata": {},
   "source": [
    "10. Track passengers on a bus:\n",
    "\n",
    "passengers = [\"Ali\", \"Zara\", \"Ahmed\"]\n",
    "\n",
    "\n",
    "- Insert a new passenger \"Sara\" at position 2\n",
    "\n",
    "- Remove passesnger who got off \"Zara\"\n",
    "\n",
    "- Reverse the order to show who entered first"
   ]
  },
  {
   "cell_type": "code",
   "execution_count": 2,
   "id": "5d34ff6f-eb9a-416e-bd4a-9950dc99561b",
   "metadata": {},
   "outputs": [
    {
     "name": "stdout",
     "output_type": "stream",
     "text": [
      "The Sum of a and b is:  19\n",
      "The Difference of a and b is:  11\n",
      "The Product of a and b is:  60\n",
      "The Division of a and b is:  3.75\n",
      "The Floor Division of a and b is:  3\n",
      "The Modulus of a and b is:  3\n"
     ]
    }
   ],
   "source": [
    "# Q1. Write a program that takes two numbers (a = 15 , b = 4) and prints their:\n",
    "# Sum\n",
    "# Difference\n",
    "# Product\n",
    "# Division\n",
    "# Floor Division\n",
    "# Modulus\n",
    "\n",
    "a=15\n",
    "b=4\n",
    "print(\"The Sum of a and b is: \", a+b)\n",
    "print(\"The Difference of a and b is: \", a-b)\n",
    "print(\"The Product of a and b is: \", a*b)\n",
    "print(\"The Division of a and b is: \", a/b)\n",
    "print(\"The Floor Division of a and b is: \", a//b)\n",
    "print(\"The Modulus of a and b is: \", a%b)"
   ]
  },
  {
   "cell_type": "code",
   "execution_count": 23,
   "id": "8b5cd11b-8dcd-4d46-894c-d1a87042f745",
   "metadata": {},
   "outputs": [
    {
     "name": "stdout",
     "output_type": "stream",
     "text": [
      "***INTEGER TO FLOAT***\n",
      "10.0\n",
      "***FLOAT TO INTEGER***\n",
      "5\n",
      "4\n",
      "***FLOAT TO STRING***\n",
      "5.6\n",
      "4.43\n"
     ]
    }
   ],
   "source": [
    "\n",
    "# Q2. Convert the following: (num1 = 10, num2 = 5.6, num3 = 4.43)\n",
    "# Integer to float\n",
    "# Float to integer\n",
    "# Float to String\n",
    "# num1 = 10 \n",
    "# num2 = 5.6 \n",
    "# num3 = 4.43\n",
    "\n",
    "#integer to float\n",
    "print(\"***INTEGER TO FLOAT***\")\n",
    "num1_float = float(num1)\n",
    "print(num1_float)\n",
    "\n",
    "\n",
    "#float to integer\n",
    "print(\"***FLOAT TO INTEGER***\")\n",
    "num2_int= int(num2)\n",
    "print(num2_int)\n",
    "\n",
    "num3_int= int(num3)\n",
    "print(num3_int)\n",
    "\n",
    "#float to string\n",
    "print(\"***FLOAT TO STRING***\")\n",
    "num2_string= str(num2)\n",
    "print(num2_string)\n",
    "\n",
    "num3_string=str(num3)\n",
    "print(num3_string)"
   ]
  },
  {
   "cell_type": "code",
   "execution_count": 29,
   "id": "103bd59b-4c12-47cd-9516-5f3d9e988ff7",
   "metadata": {},
   "outputs": [
    {
     "name": "stdout",
     "output_type": "stream",
     "text": [
      "['apple', 'banana', 'cherry', 'coconut', 'pineapple', 'mango', 'orange']\n",
      "the first fruit in the list is: apple\n",
      "the last fruit in the list is: orange\n",
      "the forth fruit in the list is: coconut\n"
     ]
    }
   ],
   "source": [
    "# Q3. fruits = [\"apple\", \"banana\", \"cherry\", \"coconut\", \"pineapple\", \"mango\", \"orange\"]\n",
    "# Print below using indexing:\n",
    "\n",
    "# The first fruit\n",
    "\n",
    "# The last fruit (negative indexing)\n",
    "\n",
    "# The fourth fruit\n",
    "\n",
    "fruits = [\"apple\", \"banana\", \"cherry\", \"coconut\", \"pineapple\", \"mango\", \"orange\"]\n",
    "print(fruits)\n",
    "print(\"the first fruit in the list is:\", fruits[0])\n",
    "print(\"the last fruit in the list is:\", fruits[-1])\n",
    "print(\"the forth fruit in the list is:\", fruits[3])\n"
   ]
  },
  {
   "cell_type": "code",
   "execution_count": 42,
   "id": "ec0bc151-cf74-49b0-804f-20b01c865145",
   "metadata": {},
   "outputs": [
    {
     "name": "stdout",
     "output_type": "stream",
     "text": [
      "the fist three numbers in the list are: [10, 20, 30]\n",
      "the last two numbers in the list are: [40, 50]\n",
      "all numbers except first one are: [20, 30, 40, 50]\n",
      "the list in reverse using slicing: [50, 40, 30, 20, 10]\n"
     ]
    }
   ],
   "source": [
    "# Q4. List Slicing\n",
    "# numbers = [10, 20, 30, 40, 50]\n",
    "\n",
    "# Print:\n",
    "\n",
    "# First three elements\n",
    "\n",
    "# Last two elements\n",
    "\n",
    "# Print all elements except the first one\n",
    "\n",
    "# Print all elements except the last one\n",
    "\n",
    "# Print the list in reverse using slicing\n",
    "\n",
    "# Print every second element\n",
    "numbers = [10, 20, 30, 40, 50]\n",
    "print(\"the fist three numbers in the list are:\", numbers[:3])\n",
    "print(\"the last two numbers in the list are:\",numbers[-2:])\n",
    "print(\"all numbers except first one are:\",numbers[1:])\n",
    "print(\"the list in reverse using slicing:\",numbers [::-1])"
   ]
  },
  {
   "cell_type": "code",
   "execution_count": 45,
   "id": "059ed6df-6fb1-4460-bbfb-59c8ea2eb2da",
   "metadata": {},
   "outputs": [
    {
     "data": {
      "text/plain": [
       "[1, 2, 3, 10]"
      ]
     },
     "execution_count": 45,
     "metadata": {},
     "output_type": "execute_result"
    }
   ],
   "source": [
    "# Q5. Add the number 10 to the end of the list using method.\n",
    "# nums = [1, 2, 3]\n",
    "\n",
    "nums = [1, 2, 3]\n",
    "nums.append(10)\n",
    "nums\n",
    "\n",
    "\n"
   ]
  },
  {
   "cell_type": "code",
   "execution_count": 51,
   "id": "9b36bbba-b510-4677-a1bc-d5a4e535accd",
   "metadata": {},
   "outputs": [
    {
     "data": {
      "text/plain": [
       "[1, 99, 2, 3]"
      ]
     },
     "execution_count": 51,
     "metadata": {},
     "output_type": "execute_result"
    }
   ],
   "source": [
    "# Q6. Insert the number 99 at index 1 using method.\n",
    "# nums = [1, 2, 3]\n",
    "\n",
    "nums = [1, 2, 3]\n",
    "nums.insert(1,99)\n",
    "nums"
   ]
  },
  {
   "cell_type": "code",
   "execution_count": 53,
   "id": "30d320dd-9ec2-414f-9071-e8c0fb6159a6",
   "metadata": {},
   "outputs": [
    {
     "data": {
      "text/plain": [
       "[1, 2, 3, 4, 5]"
      ]
     },
     "execution_count": 53,
     "metadata": {},
     "output_type": "execute_result"
    }
   ],
   "source": [
    "# Q7. Add the elements of another list [4, 5] to the original list using method\n",
    "# nums = [1, 2, 3]\n",
    "\n",
    "nums = [1, 2, 3]\n",
    "nums2=[4,5]\n",
    "nums.extend(nums2)\n",
    "nums"
   ]
  },
  {
   "cell_type": "code",
   "execution_count": 55,
   "id": "f070b75d-981f-41cf-ab4d-75b23944e415",
   "metadata": {},
   "outputs": [
    {
     "data": {
      "text/plain": [
       "[1, 2, 3, 4]"
      ]
     },
     "execution_count": 55,
     "metadata": {},
     "output_type": "execute_result"
    }
   ],
   "source": [
    "# Q8.Sort the list in ascending order using method\n",
    "# nums = [4, 1, 3, 2]\n",
    "\n",
    "nums = [4,1,3,2]\n",
    "nums.sort()\n",
    "nums"
   ]
  },
  {
   "cell_type": "code",
   "execution_count": 70,
   "id": "a7632063-c858-461d-b052-55974b045e6e",
   "metadata": {},
   "outputs": [
    {
     "name": "stdout",
     "output_type": "stream",
     "text": [
      "['burger', 'fries', 'coke']\n",
      "list with customer added items: ['burger', 'fries', 'coke', 'ice-cream', 'biryani']\n",
      "final order: ['burger', 'fries', 'coke', 'ice-cream']\n"
     ]
    }
   ],
   "source": [
    "# Q9. A customer orders several food items. Add the items to a list and then:\n",
    "# order = [\"burger\", \"fries\", \"coke\"]\n",
    "\n",
    "# Add a new item \"ice cream\" using append()\n",
    "\n",
    "# Remove an item \"biryani\" using remove()\n",
    "\n",
    "# Show the final order\n",
    "order = [\"burger\", \"fries\", \"coke\"]\n",
    "print(order)\n",
    "order.append(\"ice-cream\")\n",
    "order.append(\"biryani\")\n",
    "print(\"list with customer added items:\",order)\n",
    "order.remove(\"biryani\")\n",
    "print(\"final order:\",order)\n",
    "\n"
   ]
  },
  {
   "cell_type": "code",
   "execution_count": 83,
   "id": "ece23c53-c3e2-4dd6-9241-c075918a4973",
   "metadata": {},
   "outputs": [
    {
     "name": "stdout",
     "output_type": "stream",
     "text": [
      "passenger's list ['Ali', 'Zara', 'Ahmed']\n",
      "list with a new passenger ['Ali', 'Sara', 'Zara', 'Ahmed']\n",
      "list after getting off a passenger ['Ali', 'Sara', 'Ahmed']\n",
      "list with reversed order ['Ahmed', 'Sara', 'Ali']\n"
     ]
    }
   ],
   "source": [
    "# Q10. Track passengers on a bus:\n",
    "# passengers = [\"Ali\", \"Zara\", \"Ahmed\"]\n",
    "\n",
    "# Insert a new passenger \"Sara\" at position 2\n",
    "\n",
    "# Remove passesnger who got off \"Zara\"\n",
    "\n",
    "# Reverse the order to show who entered first\n",
    "\n",
    "passengers = [\"Ali\", \"Zara\", \"Ahmed\"]\n",
    "print(\"passenger's list\", passengers)\n",
    "passengers.insert(1, \"Sara\")\n",
    "print (\"list with a new passenger\",passengers)\n",
    "passengers.remove(\"Zara\")\n",
    "print(\"list after getting off a passenger\", passengers)\n",
    "passengers.reverse()\n",
    "print(\"list with reversed order\",passengers)"
   ]
  },
  {
   "cell_type": "code",
   "execution_count": null,
   "id": "f7335fef-4e0a-4111-ae73-9edb5561ed97",
   "metadata": {},
   "outputs": [],
   "source": []
  },
  {
   "cell_type": "code",
   "execution_count": null,
   "id": "a89b9701-c362-4ef6-a680-ffbb6fc25f8a",
   "metadata": {},
   "outputs": [],
   "source": []
  },
  {
   "cell_type": "code",
   "execution_count": null,
   "id": "acf27fc5-bbac-4268-a1a5-2780433e0528",
   "metadata": {},
   "outputs": [],
   "source": []
  },
  {
   "cell_type": "code",
   "execution_count": null,
   "id": "67bdaf2e-941b-4e08-8f27-3ac890031c71",
   "metadata": {},
   "outputs": [],
   "source": []
  }
 ],
 "metadata": {
  "kernelspec": {
   "display_name": "Python 3 (ipykernel)",
   "language": "python",
   "name": "python3"
  },
  "language_info": {
   "codemirror_mode": {
    "name": "ipython",
    "version": 3
   },
   "file_extension": ".py",
   "mimetype": "text/x-python",
   "name": "python",
   "nbconvert_exporter": "python",
   "pygments_lexer": "ipython3",
   "version": "3.12.7"
  }
 },
 "nbformat": 4,
 "nbformat_minor": 5
}
